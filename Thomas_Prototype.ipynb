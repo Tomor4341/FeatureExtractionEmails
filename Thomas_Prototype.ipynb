{
  "nbformat": 4,
  "nbformat_minor": 0,
  "metadata": {
    "colab": {
      "provenance": []
    },
    "kernelspec": {
      "name": "python3",
      "display_name": "Python 3"
    },
    "language_info": {
      "name": "python"
    }
  },
  "cells": [
    {
      "cell_type": "code",
      "source": [
        "import pandas as pd\n",
        "import numpy as np"
      ],
      "metadata": {
        "id": "DqTKyOmq2ijK"
      },
      "execution_count": null,
      "outputs": []
    },
    {
      "cell_type": "code",
      "execution_count": null,
      "metadata": {
        "colab": {
          "base_uri": "https://localhost:8080/"
        },
        "id": "9rKt9XRFwM_W",
        "outputId": "e00cda3d-6a33-4934-8d3b-27e6622f550f"
      },
      "outputs": [
        {
          "output_type": "stream",
          "name": "stdout",
          "text": [
            "Drive already mounted at /content/drive; to attempt to forcibly remount, call drive.mount(\"/content/drive\", force_remount=True).\n"
          ]
        }
      ],
      "source": [
        "from google.colab import drive\n",
        "drive.mount('/content/drive')"
      ]
    },
    {
      "cell_type": "code",
      "source": [
        "!ls \"/content/drive/My Drive/Research_Notebooks/Thomas-Prototype/\""
      ],
      "metadata": {
        "colab": {
          "base_uri": "https://localhost:8080/"
        },
        "id": "KLHaI5dVwRzy",
        "outputId": "63dea515-f44a-4145-d813-3580f6fec85d"
      },
      "execution_count": null,
      "outputs": [
        {
          "output_type": "stream",
          "name": "stdout",
          "text": [
            "thomas_fradulent_emails.txt\n"
          ]
        }
      ]
    },
    {
      "cell_type": "code",
      "source": [
        "file_path = \"/content/drive/My Drive/Research_Notebooks/Thomas-Prototype/thomas_fradulent_emails.txt\"\n",
        "\n",
        "try:\n",
        "    with open(file_path, \"r\", encoding=\"utf-8\", errors = 'ignore') as file:\n",
        "        emails_contents = file.read()\n",
        "except Exception as e:\n",
        "    print(f\"An error occurred: {e}\")\n"
      ],
      "metadata": {
        "id": "QBCQb6yuwu9b"
      },
      "execution_count": null,
      "outputs": []
    },
    {
      "cell_type": "code",
      "source": [
        "emails = emails_contents.split(\"From r\")[1:]\n",
        "\n",
        "df_all = pd.DataFrame(emails,columns=['email_content'])"
      ],
      "metadata": {
        "id": "jLuh8ImdxSyN"
      },
      "execution_count": null,
      "outputs": []
    },
    {
      "cell_type": "code",
      "source": [
        "print(df_all.iloc[1]['email_content'])"
      ],
      "metadata": {
        "colab": {
          "base_uri": "https://localhost:8080/"
        },
        "id": "Fv8DqcTmyaVx",
        "outputId": "5312d054-cd0a-4abf-9592-222b298e819a"
      },
      "execution_count": null,
      "outputs": [
        {
          "output_type": "stream",
          "name": "stdout",
          "text": [
            "  Thu Oct 31 08:11:39 2002\n",
            "Return-Path: <bensul2004nng@spinfinder.com>\n",
            "X-Sieve: cmu-sieve 2.0\n",
            "Return-Path: <bensul2004nng@spinfinder.com>\n",
            "Message-Id: <200210311310.g9VDANt24674@bloodwork.mr.itd.UM>\n",
            "From: \"Mr. Ben Suleman\" <bensul2004nng@spinfinder.com>\n",
            "Date: Thu, 31 Oct 2002 05:10:00\n",
            "To: R@M\n",
            "Subject: URGENT ASSISTANCE /RELATIONSHIP (P)\n",
            "MIME-Version: 1.0\n",
            "Content-Type: text/plain;charset=\"iso-8859-1\"\n",
            "Content-Transfer-Encoding: 7bit\n",
            "Status: O\n",
            "\n",
            "Dear Friend,\n",
            "\n",
            "I am Mr. Ben Suleman a custom officer and work as Assistant controller of the Customs and Excise department Of the Federal Ministry of Internal Affairs stationed at the Murtala Mohammed International Airport, Ikeja, Lagos-Nigeria.\n",
            "\n",
            "After the sudden death of the former Head of state of Nigeria General Sanni Abacha on June 8th 1998 his aides and immediate members of his family were arrested while trying to escape from Nigeria in a Chartered jet to Saudi Arabia with 6 trunk boxes Marked \"Diplomatic Baggage\". Acting on a tip-off as they attempted to board the Air Craft,my officials carried out a thorough search on the air craft and discovered that the 6 trunk boxes contained foreign currencies amounting to US$197,570,000.00(One Hundred and  Ninety-Seven Million Five Hundred Seventy Thousand United States Dollars).\n",
            "\n",
            "I declared only (5) five boxes to the government and withheld one (1) in my custody containing the sum of (US$30,000,000.00) Thirty Million United States Dollars Only, which has been disguised to prevent their being discovered during transportation process.Due to several media reports on the late head of state about all the money him and his co-government officials stole from our government treasury amounting\n",
            "to US$55 Billion Dollars (ref:ngrguardiannews.com) of July 2nd 1999. Even the London times of July 1998 reported that General Abacha has over US$3.Billion dollars in one account overseas. We decided to conceal this one (1)box till the situation is calm and quite on the issue. The box was thus deposited with a security company here in Nigeria and tagged as \"Precious Stones and Jewellry\" in other that its\n",
            "content will not be discovered. Now that all is calm, we (myself and two of my colleagues in the operations team) are now ready to move this box out of the country through a diplomatic arrangement which is the safest means. \n",
            "\n",
            "However as government officials the Civil Service Code of Conduct does not allow us by law to operate any foreign account or own foreign investment and the amount of money that can be found in our account\n",
            "cannot be more than our salary on the average, thus our handicapp and our need for your assistance to help collect and keep safely in your account this money.\n",
            "\n",
            "Therefore we want you to assist us in moving this money out of Nigeria. We shall definitely compensate you handsomely for the assistance. We can do this by instructing the Security Company here in Nigeria to\n",
            "move the consignment to their affiliate branch office outside Nigeria through diplomatic means and the consignment will be termed as Precious Stones and Jewelleries\" which you bought during your visit to Nigeria and is being transfered to your country from here for safe keeping. Then we can arrange to meet at the destination country to take the delivery of the consignment. You will thereafter open an account there and lodge the Money there and gradually instruct remittance to your Country. \n",
            "\n",
            "This business is 100% risk free for you so please treat this matter with utmost confidentiality .If you indicate your interest to assist us please just e-mail me for more Explanation on how we plan to execute the transaction.\n",
            "\n",
            "Expecting your response urgently.\n",
            "\n",
            "Best regards,\n",
            "\n",
            "Mr. Ben Suleman\n",
            "\n",
            "\n"
          ]
        }
      ]
    },
    {
      "cell_type": "code",
      "source": [
        "sample_email = df_all.iloc[1]['email_content']"
      ],
      "metadata": {
        "id": "lz-6uI86z5Qt"
      },
      "execution_count": null,
      "outputs": []
    },
    {
      "cell_type": "code",
      "source": [],
      "metadata": {
        "colab": {
          "base_uri": "https://localhost:8080/",
          "height": 446
        },
        "id": "gXwaRpe33NRE",
        "outputId": "89e7be4f-9a1d-42f9-a5ae-faf8be3b95e1"
      },
      "execution_count": null,
      "outputs": [
        {
          "output_type": "execute_result",
          "data": {
            "text/plain": [
              "'  Thu Oct 31 08:11:39 2002\\nReturn-Path: <bensul2004nng@spinfinder.com>\\nX-Sieve: cmu-sieve 2.0\\nReturn-Path: <bensul2004nng@spinfinder.com>\\nMessage-Id: <200210311310.g9VDANt24674@bloodwork.mr.itd.UM>\\nFrom: \"Mr. Ben Suleman\" <bensul2004nng@spinfinder.com>\\nDate: Thu, 31 Oct 2002 05:10:00\\nTo: R@M\\nSubject: URGENT ASSISTANCE /RELATIONSHIP (P)\\nMIME-Version: 1.0\\nContent-Type: text/plain;charset=\"iso-8859-1\"\\nContent-Transfer-Encoding: 7bit\\nStatus: O\\n\\nDear Friend,\\n\\nI am Mr. Ben Suleman a custom officer and work as Assistant controller of the Customs and Excise department Of the Federal Ministry of Internal Affairs stationed at the Murtala Mohammed International Airport, Ikeja, Lagos-Nigeria.\\n\\nAfter the sudden death of the former Head of state of Nigeria General Sanni Abacha on June 8th 1998 his aides and immediate members of his family were arrested while trying to escape from Nigeria in a Chartered jet to Saudi Arabia with 6 trunk boxes Marked \"Diplomatic Baggage\". Acting on a tip-off as they attempted to board the Air Craft,my officials carried out a thorough search on the air craft and discovered that the 6 trunk boxes contained foreign currencies amounting to US$197,570,000.00(One Hundred and  Ninety-Seven Million Five Hundred Seventy Thousand United States Dollars).\\n\\nI declared only (5) five boxes to the government and withheld one (1) in my custody containing the sum of (US$30,000,000.00) Thirty Million United States Dollars Only, which has been disguised to prevent their being discovered during transportation process.Due to several media reports on the late head of state about all the money him and his co-government officials stole from our government treasury amounting\\nto US$55 Billion Dollars (ref:ngrguardiannews.com) of July 2nd 1999. Even the London times of July 1998 reported that General Abacha has over US$3.Billion dollars in one account overseas. We decided to conceal this one (1)box till the situation is calm and quite on the issue. The box was thus deposited with a security company here in Nigeria and tagged as \"Precious Stones and Jewellry\" in other that its\\ncontent will not be discovered. Now that all is calm, we (myself and two of my colleagues in the operations team) are now ready to move this box out of the country through a diplomatic arrangement which is the safest means. \\n\\nHowever as government officials the Civil Service Code of Conduct does not allow us by law to operate any foreign account or own foreign investment and the amount of money that can be found in our account\\ncannot be more than our salary on the average, thus our handicapp and our need for your assistance to help collect and keep safely in your account this money.\\n\\nTherefore we want you to assist us in moving this money out of Nigeria. We shall definitely compensate you handsomely for the assistance. We can do this by instructing the Security Company here in Nigeria to\\nmove the consignment to their affiliate branch office outside Nigeria through diplomatic means and the consignment will be termed as Precious Stones and Jewelleries\" which you bought during your visit to Nigeria and is being transfered to your country from here for safe keeping. Then we can arrange to meet at the destination country to take the delivery of the consignment. You will thereafter open an account there and lodge the Money there and gradually instruct remittance to your Country. \\n\\nThis business is 100% risk free for you so please treat this matter with utmost confidentiality .If you indicate your interest to assist us please just e-mail me for more Explanation on how we plan to execute the transaction.\\n\\nExpecting your response urgently.\\n\\nBest regards,\\n\\nMr. Ben Suleman\\n\\n'"
            ],
            "application/vnd.google.colaboratory.intrinsic+json": {
              "type": "string"
            }
          },
          "metadata": {},
          "execution_count": 33
        }
      ]
    },
    {
      "cell_type": "code",
      "source": [
        "# Split the text into header and body sections\n",
        "header, body = sample_email.split(\"Dear\", 1)\n",
        "\n",
        "# Remove any leading or trailing whitespace from the header and body sections\n",
        "header = header.strip()\n",
        "body = body.strip()\n",
        "\n",
        "print(\"Header Section:\")\n",
        "print(header)\n",
        "print(\"\\nBody Section:\")\n",
        "print(body)\n"
      ],
      "metadata": {
        "colab": {
          "base_uri": "https://localhost:8080/"
        },
        "id": "4_z4p1YV7HEB",
        "outputId": "1b960b2c-13b8-4488-ba80-4853f7ecaae0"
      },
      "execution_count": null,
      "outputs": [
        {
          "output_type": "stream",
          "name": "stdout",
          "text": [
            "Header Section:\n",
            "Thu Oct 31 08:11:39 2002\n",
            "Return-Path: <bensul2004nng@spinfinder.com>\n",
            "X-Sieve: cmu-sieve 2.0\n",
            "Return-Path: <bensul2004nng@spinfinder.com>\n",
            "Message-Id: <200210311310.g9VDANt24674@bloodwork.mr.itd.UM>\n",
            "From: \"Mr. Ben Suleman\" <bensul2004nng@spinfinder.com>\n",
            "Date: Thu, 31 Oct 2002 05:10:00\n",
            "To: R@M\n",
            "Subject: URGENT ASSISTANCE /RELATIONSHIP (P)\n",
            "MIME-Version: 1.0\n",
            "Content-Type: text/plain;charset=\"iso-8859-1\"\n",
            "Content-Transfer-Encoding: 7bit\n",
            "Status: O\n",
            "\n",
            "Body Section:\n",
            "Friend,\n",
            "\n",
            "I am Mr. Ben Suleman a custom officer and work as Assistant controller of the Customs and Excise department Of the Federal Ministry of Internal Affairs stationed at the Murtala Mohammed International Airport, Ikeja, Lagos-Nigeria.\n",
            "\n",
            "After the sudden death of the former Head of state of Nigeria General Sanni Abacha on June 8th 1998 his aides and immediate members of his family were arrested while trying to escape from Nigeria in a Chartered jet to Saudi Arabia with 6 trunk boxes Marked \"Diplomatic Baggage\". Acting on a tip-off as they attempted to board the Air Craft,my officials carried out a thorough search on the air craft and discovered that the 6 trunk boxes contained foreign currencies amounting to US$197,570,000.00(One Hundred and  Ninety-Seven Million Five Hundred Seventy Thousand United States Dollars).\n",
            "\n",
            "I declared only (5) five boxes to the government and withheld one (1) in my custody containing the sum of (US$30,000,000.00) Thirty Million United States Dollars Only, which has been disguised to prevent their being discovered during transportation process.Due to several media reports on the late head of state about all the money him and his co-government officials stole from our government treasury amounting\n",
            "to US$55 Billion Dollars (ref:ngrguardiannews.com) of July 2nd 1999. Even the London times of July 1998 reported that General Abacha has over US$3.Billion dollars in one account overseas. We decided to conceal this one (1)box till the situation is calm and quite on the issue. The box was thus deposited with a security company here in Nigeria and tagged as \"Precious Stones and Jewellry\" in other that its\n",
            "content will not be discovered. Now that all is calm, we (myself and two of my colleagues in the operations team) are now ready to move this box out of the country through a diplomatic arrangement which is the safest means. \n",
            "\n",
            "However as government officials the Civil Service Code of Conduct does not allow us by law to operate any foreign account or own foreign investment and the amount of money that can be found in our account\n",
            "cannot be more than our salary on the average, thus our handicapp and our need for your assistance to help collect and keep safely in your account this money.\n",
            "\n",
            "Therefore we want you to assist us in moving this money out of Nigeria. We shall definitely compensate you handsomely for the assistance. We can do this by instructing the Security Company here in Nigeria to\n",
            "move the consignment to their affiliate branch office outside Nigeria through diplomatic means and the consignment will be termed as Precious Stones and Jewelleries\" which you bought during your visit to Nigeria and is being transfered to your country from here for safe keeping. Then we can arrange to meet at the destination country to take the delivery of the consignment. You will thereafter open an account there and lodge the Money there and gradually instruct remittance to your Country. \n",
            "\n",
            "This business is 100% risk free for you so please treat this matter with utmost confidentiality .If you indicate your interest to assist us please just e-mail me for more Explanation on how we plan to execute the transaction.\n",
            "\n",
            "Expecting your response urgently.\n",
            "\n",
            "Best regards,\n",
            "\n",
            "Mr. Ben Suleman\n"
          ]
        }
      ]
    },
    {
      "cell_type": "code",
      "source": [
        "print(body)"
      ],
      "metadata": {
        "colab": {
          "base_uri": "https://localhost:8080/"
        },
        "id": "Xto2p3qFPW7a",
        "outputId": "1ec45df0-9a0e-4036-b06f-4c8f2d1067a9"
      },
      "execution_count": null,
      "outputs": [
        {
          "output_type": "stream",
          "name": "stdout",
          "text": [
            "Friend,\n",
            "\n",
            "I am Mr. Ben Suleman a custom officer and work as Assistant controller of the Customs and Excise department Of the Federal Ministry of Internal Affairs stationed at the Murtala Mohammed International Airport, Ikeja, Lagos-Nigeria.\n",
            "\n",
            "After the sudden death of the former Head of state of Nigeria General Sanni Abacha on June 8th 1998 his aides and immediate members of his family were arrested while trying to escape from Nigeria in a Chartered jet to Saudi Arabia with 6 trunk boxes Marked \"Diplomatic Baggage\". Acting on a tip-off as they attempted to board the Air Craft,my officials carried out a thorough search on the air craft and discovered that the 6 trunk boxes contained foreign currencies amounting to US$197,570,000.00(One Hundred and  Ninety-Seven Million Five Hundred Seventy Thousand United States Dollars).\n",
            "\n",
            "I declared only (5) five boxes to the government and withheld one (1) in my custody containing the sum of (US$30,000,000.00) Thirty Million United States Dollars Only, which has been disguised to prevent their being discovered during transportation process.Due to several media reports on the late head of state about all the money him and his co-government officials stole from our government treasury amounting\n",
            "to US$55 Billion Dollars (ref:ngrguardiannews.com) of July 2nd 1999. Even the London times of July 1998 reported that General Abacha has over US$3.Billion dollars in one account overseas. We decided to conceal this one (1)box till the situation is calm and quite on the issue. The box was thus deposited with a security company here in Nigeria and tagged as \"Precious Stones and Jewellry\" in other that its\n",
            "content will not be discovered. Now that all is calm, we (myself and two of my colleagues in the operations team) are now ready to move this box out of the country through a diplomatic arrangement which is the safest means. \n",
            "\n",
            "However as government officials the Civil Service Code of Conduct does not allow us by law to operate any foreign account or own foreign investment and the amount of money that can be found in our account\n",
            "cannot be more than our salary on the average, thus our handicapp and our need for your assistance to help collect and keep safely in your account this money.\n",
            "\n",
            "Therefore we want you to assist us in moving this money out of Nigeria. We shall definitely compensate you handsomely for the assistance. We can do this by instructing the Security Company here in Nigeria to\n",
            "move the consignment to their affiliate branch office outside Nigeria through diplomatic means and the consignment will be termed as Precious Stones and Jewelleries\" which you bought during your visit to Nigeria and is being transfered to your country from here for safe keeping. Then we can arrange to meet at the destination country to take the delivery of the consignment. You will thereafter open an account there and lodge the Money there and gradually instruct remittance to your Country. \n",
            "\n",
            "This business is 100% risk free for you so please treat this matter with utmost confidentiality .If you indicate your interest to assist us please just e-mail me for more Explanation on how we plan to execute the transaction.\n",
            "\n",
            "Expecting your response urgently.\n",
            "\n",
            "Best regards,\n",
            "\n",
            "Mr. Ben Suleman\n"
          ]
        }
      ]
    },
    {
      "cell_type": "code",
      "source": [
        "from nltk.tokenize import word_tokenize\n",
        "\n",
        "# Tokenize the text\n",
        "word_tokens = word_tokenize(body)\n",
        "\n",
        "# Count the number of words\n",
        "num_words = len(word_tokens)\n",
        "\n",
        "print(\"Body Size:\", num_words)\n"
      ],
      "metadata": {
        "colab": {
          "base_uri": "https://localhost:8080/"
        },
        "id": "KLTzyAIkPa7K",
        "outputId": "f2d349a0-a806-42ff-b0f0-b9454cb76a25"
      },
      "execution_count": null,
      "outputs": [
        {
          "output_type": "stream",
          "name": "stdout",
          "text": [
            "Body Size: 592\n"
          ]
        }
      ]
    },
    {
      "cell_type": "code",
      "source": [
        "from nltk.corpus import stopwords\n",
        "import pprint\n",
        "\n",
        "\n",
        "stop_words = set(stopwords.words('english'))\n",
        "\n",
        "# Filter out stopwords\n",
        "filtered_words = [w for w in word_tokens if not w.lower() in stop_words]\n",
        "\n",
        "# Join the filtered words into a single string\n",
        "filtered_body = ' '.join(filtered_words)\n",
        "\n",
        "# Word count of original body text\n",
        "original_word_count = len(word_tokens)\n",
        "print(\"Original word count:\", original_word_count)\n",
        "\n",
        "filtered_word_count = len(filtered_words)\n",
        "print(\"Filtered word count:\", filtered_word_count)\n",
        "\n",
        "# Pretty print the filtered text for readability\n",
        "pprint.pprint(filtered_body)\n",
        "\n"
      ],
      "metadata": {
        "colab": {
          "base_uri": "https://localhost:8080/"
        },
        "id": "uWjN54UdMS15",
        "outputId": "37597aed-9ba1-4e0e-857f-2ed75991a9c7"
      },
      "execution_count": null,
      "outputs": [
        {
          "output_type": "stream",
          "name": "stdout",
          "text": [
            "Original word count: 592\n",
            "Filtered word count: 341\n",
            "('Friend , Mr. Ben Suleman custom officer work Assistant controller Customs '\n",
            " 'Excise department Federal Ministry Internal Affairs stationed Murtala '\n",
            " 'Mohammed International Airport , Ikeja , Lagos-Nigeria . sudden death former '\n",
            " 'Head state Nigeria General Sanni Abacha June 8th 1998 aides immediate '\n",
            " 'members family arrested trying escape Nigeria Chartered jet Saudi Arabia 6 '\n",
            " \"trunk boxes Marked `` Diplomatic Baggage '' . Acting tip-off attempted board \"\n",
            " 'Air Craft , officials carried thorough search air craft discovered 6 trunk '\n",
            " 'boxes contained foreign currencies amounting US $ 197,570,000.00 ( One '\n",
            " 'Hundred Ninety-Seven Million Five Hundred Seventy Thousand United States '\n",
            " 'Dollars ) . declared ( 5 ) five boxes government withheld one ( 1 ) custody '\n",
            " 'containing sum ( US $ 30,000,000.00 ) Thirty Million United States Dollars , '\n",
            " 'disguised prevent discovered transportation process.Due several media '\n",
            " 'reports late head state money co-government officials stole government '\n",
            " 'treasury amounting US $ 55 Billion Dollars ( ref : ngrguardiannews.com ) '\n",
            " 'July 2nd 1999 . Even London times July 1998 reported General Abacha US $ '\n",
            " '3.Billion dollars one account overseas . decided conceal one ( 1 ) box till '\n",
            " 'situation calm quite issue . box thus deposited security company Nigeria '\n",
            " \"tagged `` Precious Stones Jewellry '' content discovered . calm , ( two \"\n",
            " 'colleagues operations team ) ready move box country diplomatic arrangement '\n",
            " 'safest means . However government officials Civil Service Code Conduct allow '\n",
            " 'us law operate foreign account foreign investment amount money found account '\n",
            " 'salary average , thus handicapp need assistance help collect keep safely '\n",
            " 'account money . Therefore want assist us moving money Nigeria . shall '\n",
            " 'definitely compensate handsomely assistance . instructing Security Company '\n",
            " 'Nigeria move consignment affiliate branch office outside Nigeria diplomatic '\n",
            " \"means consignment termed Precious Stones Jewelleries '' bought visit Nigeria \"\n",
            " 'transfered country safe keeping . arrange meet destination country take '\n",
            " 'delivery consignment . thereafter open account lodge Money gradually '\n",
            " 'instruct remittance Country . business 100 % risk free please treat matter '\n",
            " 'utmost confidentiality .If indicate interest assist us please e-mail '\n",
            " 'Explanation plan execute transaction . Expecting response urgently . Best '\n",
            " 'regards , Mr. Ben Suleman')\n"
          ]
        }
      ]
    },
    {
      "cell_type": "code",
      "source": [
        "percentage_reduction = (filtered_word_count  / original_word_count) * 100\n",
        "print(percentage_reduction)"
      ],
      "metadata": {
        "colab": {
          "base_uri": "https://localhost:8080/"
        },
        "id": "NSsRPGExBq3l",
        "outputId": "9a4fdae9-79ad-4186-faf0-83256abaef02"
      },
      "execution_count": null,
      "outputs": [
        {
          "output_type": "stream",
          "name": "stdout",
          "text": [
            "57.60135135135135\n"
          ]
        }
      ]
    },
    {
      "cell_type": "markdown",
      "source": [
        "After running stopwords, the body content of the email was reduced to **57.6%** of the original size.\n",
        "\n",
        "After reading the filtered email, the content is still comprehensible and successfully reduced.\n",
        "\n",
        "Exploration of other extraction tools are necessary for improved summarisation."
      ],
      "metadata": {
        "id": "ASvKP-e4A3Hy"
      }
    },
    {
      "cell_type": "code",
      "source": [],
      "metadata": {
        "id": "D6h3vHAq-zec"
      },
      "execution_count": null,
      "outputs": []
    },
    {
      "cell_type": "code",
      "source": [],
      "metadata": {
        "id": "q6Jm0W5-JCf1"
      },
      "execution_count": null,
      "outputs": []
    },
    {
      "cell_type": "code",
      "source": [],
      "metadata": {
        "id": "vTi_0drkXZRs"
      },
      "execution_count": null,
      "outputs": []
    }
  ]
}